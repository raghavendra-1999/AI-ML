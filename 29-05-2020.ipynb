{
 "cells": [
  {
   "cell_type": "markdown",
   "metadata": {},
   "source": [
    "## break"
   ]
  },
  {
   "cell_type": "code",
   "execution_count": 20,
   "metadata": {},
   "outputs": [
    {
     "name": "stdout",
     "output_type": "stream",
     "text": [
      "enter the values10\n",
      "haai\n",
      "haai\n",
      "haai\n",
      "haai\n",
      "haai\n",
      "haai\n",
      "haai\n",
      "haai\n",
      "haai\n",
      "haai\n",
      "bye\n"
     ]
    }
   ],
   "source": [
    "avg = 10\n",
    "x=int(input(\"enter the values\"))\n",
    "i=1\n",
    "while i<=x:\n",
    "    if i>avg:\n",
    "        break\n",
    "        \n",
    "    print(\"haai\")\n",
    "    i+=1\n",
    "        \n",
    "print(\"bye\")\n",
    "        \n",
    "        "
   ]
  },
  {
   "cell_type": "code",
   "execution_count": 22,
   "metadata": {},
   "outputs": [
    {
     "name": "stdout",
     "output_type": "stream",
     "text": [
      "enter the values10\n",
      "haai\n",
      "haai\n",
      "haai\n",
      "haai\n",
      "haai\n",
      "out of stack\n",
      "bye\n"
     ]
    }
   ],
   "source": [
    "avg = 5\n",
    "x=int(input(\"enter the values\"))\n",
    "i=1\n",
    "while i<=x:\n",
    "    if i>avg:\n",
    "        print(\"out of stack\")\n",
    "        break\n",
    "        \n",
    "    print(\"haai\")\n",
    "    i+=1\n",
    "        \n",
    "print(\"bye\")\n",
    "        "
   ]
  },
  {
   "cell_type": "code",
   "execution_count": 17,
   "metadata": {},
   "outputs": [
    {
     "name": "stdout",
     "output_type": "stream",
     "text": [
      "hello rahul\n"
     ]
    }
   ],
   "source": [
    "def name(username):  ##function defination\n",
    "    print(\"hello\",username)\n",
    "name(\"rahul\") ## function calling"
   ]
  },
  {
   "cell_type": "code",
   "execution_count": 3,
   "metadata": {},
   "outputs": [
    {
     "name": "stdout",
     "output_type": "stream",
     "text": [
      "(30, -10, 200, 0.5)\n",
      "(300, -100, 20000, 0.5)\n",
      "(3000, -1000, 2000000, 0.5)\n"
     ]
    }
   ],
   "source": [
    "def add(a,b):\n",
    "    return a+b,a-b,a*b,a/b\n",
    "print(add(10,20))\n",
    "print(add(100,200))\n",
    "print(add(1000,2000))"
   ]
  },
  {
   "cell_type": "code",
   "execution_count": 5,
   "metadata": {},
   "outputs": [
    {
     "name": "stdout",
     "output_type": "stream",
     "text": [
      "600\n"
     ]
    }
   ],
   "source": [
    "def arith(a,b):\n",
    "    return a+b,a-b,a*b,a/b\n",
    "\n",
    "add,sub,mul,div = arith(20,30)\n",
    "print(mul)"
   ]
  },
  {
   "cell_type": "markdown",
   "metadata": {},
   "source": [
    "## different type of arguments\n",
    "1. required positional  arguments\n",
    "2. default arguments"
   ]
  },
  {
   "cell_type": "code",
   "execution_count": 7,
   "metadata": {},
   "outputs": [
    {
     "data": {
      "text/plain": [
       "30"
      ]
     },
     "execution_count": 7,
     "metadata": {},
     "output_type": "execute_result"
    }
   ],
   "source": [
    "def add(a,b):\n",
    "    return (a+b)\n",
    "add(10,20)"
   ]
  },
  {
   "cell_type": "code",
   "execution_count": 15,
   "metadata": {},
   "outputs": [
    {
     "name": "stdout",
     "output_type": "stream",
     "text": [
      "200\n",
      "600\n"
     ]
    }
   ],
   "source": [
    "def add(a,b=100):\n",
    "    return a+b\n",
    "\n",
    "print(add(100))\n",
    "print(add(300,300))"
   ]
  },
  {
   "cell_type": "code",
   "execution_count": 17,
   "metadata": {},
   "outputs": [
    {
     "name": "stdout",
     "output_type": "stream",
     "text": [
      "a value 20\n",
      "b value 10\n"
     ]
    },
    {
     "data": {
      "text/plain": [
       "30"
      ]
     },
     "execution_count": 17,
     "metadata": {},
     "output_type": "execute_result"
    }
   ],
   "source": [
    "## keyword arguments\n",
    "\n",
    "def add(a,b):\n",
    "    print(\"a value\",a)\n",
    "    print(\"b value\",b)\n",
    "\n",
    "    return (a+b)\n",
    "add(b=10,a=20)"
   ]
  },
  {
   "cell_type": "code",
   "execution_count": 18,
   "metadata": {},
   "outputs": [
    {
     "name": "stdout",
     "output_type": "stream",
     "text": [
      "enter a value10\n",
      "enter b value20\n",
      "a value 10\n",
      "b value 20\n"
     ]
    },
    {
     "data": {
      "text/plain": [
       "30"
      ]
     },
     "execution_count": 18,
     "metadata": {},
     "output_type": "execute_result"
    }
   ],
   "source": [
    "a = int(input(\"enter a value\"))\n",
    "b = int(input(\"enter b value\"))\n",
    "add(a,b)"
   ]
  },
  {
   "cell_type": "code",
   "execution_count": 2,
   "metadata": {},
   "outputs": [
    {
     "name": "stdout",
     "output_type": "stream",
     "text": [
      "100\n",
      "1000\n"
     ]
    }
   ],
   "source": [
    "def square(a):\n",
    "    return(a*a)\n",
    "def cube(x):\n",
    "    return square(x)*x\n",
    "print(square(10))\n",
    "print(cube(10))\n",
    "    "
   ]
  },
  {
   "cell_type": "markdown",
   "metadata": {},
   "source": [
    "## data structures\n",
    "1. list\n",
    " -- indexed"
   ]
  },
  {
   "cell_type": "code",
   "execution_count": 4,
   "metadata": {},
   "outputs": [
    {
     "name": "stdout",
     "output_type": "stream",
     "text": [
      "<class 'list'>\n"
     ]
    }
   ],
   "source": [
    "list1=[12,23.45,True,\"abc\",12]\n",
    "print(type(list1))"
   ]
  },
  {
   "cell_type": "code",
   "execution_count": 7,
   "metadata": {},
   "outputs": [
    {
     "name": "stdout",
     "output_type": "stream",
     "text": [
      "[1, 2, 3, 10, 20, 30]\n",
      "[1, 2, 3, 1, 2, 3, 1, 2, 3]\n",
      "2\n",
      "[2, 3]\n",
      "True\n"
     ]
    }
   ],
   "source": [
    "list1 =[1,2,3]\n",
    "list2=[10,20,30]\n",
    "print(list1+list2)\n",
    "print(list1*3)\n",
    "print(list1[1])\n",
    "print(list1[1:3])\n",
    "print(2 in list1)"
   ]
  },
  {
   "cell_type": "code",
   "execution_count": 9,
   "metadata": {},
   "outputs": [
    {
     "data": {
      "text/plain": [
       "'t'"
      ]
     },
     "execution_count": 9,
     "metadata": {},
     "output_type": "execute_result"
    }
   ],
   "source": [
    "a=[1,2,3,\"python\"]\n",
    "a[3][2]"
   ]
  },
  {
   "cell_type": "code",
   "execution_count": 7,
   "metadata": {},
   "outputs": [
    {
     "name": "stdout",
     "output_type": "stream",
     "text": [
      "4\n",
      "40\n",
      "1\n",
      "[1, 2, 3, 100]\n",
      "['p', 'y', 't', 'h', 'o', 'n']\n"
     ]
    }
   ],
   "source": [
    "## built -in functions :len(),min(),max(),list()\n",
    "a=[1,2,3,40]\n",
    "s1=\"python\"\n",
    "print(len(a))\n",
    "print(max(a))\n",
    "print(min(a))\n",
    "a[-1]=100\n",
    "print (a)\n",
    "\n",
    "b=list(s1)\n",
    "print(b)"
   ]
  },
  {
   "cell_type": "code",
   "execution_count": 8,
   "metadata": {},
   "outputs": [
    {
     "name": "stdout",
     "output_type": "stream",
     "text": [
      "10\n",
      "11\n",
      "12\n",
      "13\n"
     ]
    }
   ],
   "source": [
    "for num in range(10, 14):\n",
    "\n",
    "    for i in range(2, num):\n",
    "\n",
    "        if num%i == 1:\n",
    "\n",
    "            print(num)\n",
    "\n",
    "            break"
   ]
  },
  {
   "cell_type": "code",
   "execution_count": 13,
   "metadata": {},
   "outputs": [
    {
     "name": "stdout",
     "output_type": "stream",
     "text": [
      "enter n5\n",
      "factorial is 120\n"
     ]
    }
   ],
   "source": [
    "## factorial\n",
    "n=int(input(\"enter n\"))\n",
    "def fact(n):\n",
    "    if(n==1):\n",
    "         return 1\n",
    "    else:\n",
    "        return n*fact(n-1)\n",
    "print(\"factorial is\",fact(n))\n",
    "   \n"
   ]
  },
  {
   "cell_type": "code",
   "execution_count": 16,
   "metadata": {},
   "outputs": [
    {
     "name": "stdout",
     "output_type": "stream",
     "text": [
      "enter n10\n",
      "0 1 1 2 3 5 8 13 21 34 55 "
     ]
    }
   ],
   "source": [
    "## fibonacii\n",
    "n=int(input(\"enter n\"))\n",
    "def fib(n):\n",
    "    if(n==0):\n",
    "        return 0\n",
    "    elif(n==1):\n",
    "        return 1\n",
    "    else:\n",
    "        return fib(n-1)+fib(n-2)\n",
    "for i in range(0,n+1):\n",
    "    print(fib(i),end=\" \")"
   ]
  },
  {
   "cell_type": "code",
   "execution_count": null,
   "metadata": {},
   "outputs": [],
   "source": []
  }
 ],
 "metadata": {
  "kernelspec": {
   "display_name": "Python 3",
   "language": "python",
   "name": "python3"
  },
  "language_info": {
   "codemirror_mode": {
    "name": "ipython",
    "version": 3
   },
   "file_extension": ".py",
   "mimetype": "text/x-python",
   "name": "python",
   "nbconvert_exporter": "python",
   "pygments_lexer": "ipython3",
   "version": "3.7.6"
  }
 },
 "nbformat": 4,
 "nbformat_minor": 4
}
